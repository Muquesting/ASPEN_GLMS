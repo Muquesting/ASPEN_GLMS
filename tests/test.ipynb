{
 "cells": [
  {
   "cell_type": "code",
   "execution_count": 4,
   "id": "d4b38d8d",
   "metadata": {
    "vscode": {
     "languageId": "r"
    }
   },
   "outputs": [],
   "source": [
    "data <- readRDS(\"/Users/z5345125/repos/ASPEN_GLMS/tests/data/aspensce_sexupdated.rds\")"
   ]
  },
  {
   "cell_type": "code",
   "execution_count": 6,
   "id": "f4ee5320",
   "metadata": {
    "vscode": {
     "languageId": "r"
    }
   },
   "outputs": [
    {
     "data": {
      "text/plain": [
       "class: SingleCellExperiment \n",
       "dim: 15653 18014 \n",
       "metadata(0):\n",
       "assays(3): a1 a2 tot\n",
       "rownames(15653): 0610005C13Rik 0610009E02Rik ... Zfp41 Zfp931\n",
       "rowData names(0):\n",
       "colnames(18014): Sample_1_AAACAGCCACCGGCTA Sample_1_AAACAGCCACCTGCTC\n",
       "  ... Sample_8_repeat_TTTGTTGGTAATGACT Sample_8_repeat_TTTGTTGGTGTTGTAG\n",
       "colData names(11): orig.ident sex ... counts_total_RNA\n",
       "  genes_detected_RNA\n",
       "reducedDimNames(0):\n",
       "mainExpName: NULL\n",
       "altExpNames(0):"
      ]
     },
     "metadata": {},
     "output_type": "display_data"
    }
   ],
   "source": [
    "data"
   ]
  },
  {
   "cell_type": "code",
   "execution_count": null,
   "id": "7519e852",
   "metadata": {
    "vscode": {
     "languageId": "r"
    }
   },
   "outputs": [],
   "source": []
  }
 ],
 "metadata": {
  "kernelspec": {
   "display_name": "R",
   "language": "R",
   "name": "ir"
  },
  "language_info": {
   "codemirror_mode": "r",
   "file_extension": ".r",
   "mimetype": "text/x-r-source",
   "name": "R",
   "pygments_lexer": "r",
   "version": "4.5.1"
  }
 },
 "nbformat": 4,
 "nbformat_minor": 5
}
